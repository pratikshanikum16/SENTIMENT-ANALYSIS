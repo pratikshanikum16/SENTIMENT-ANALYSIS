{
  "nbformat": 4,
  "nbformat_minor": 0,
  "metadata": {
    "colab": {
      "name": "SENTIMENT_ANALYSIS.ipynb",
      "provenance": [],
      "authorship_tag": "ABX9TyN6IZthwbZZqaiSl9AngQw6",
      "include_colab_link": true
    },
    "kernelspec": {
      "display_name": "Python 3",
      "name": "python3"
    },
    "language_info": {
      "name": "python"
    }
  },
  "cells": [
    {
      "cell_type": "markdown",
      "metadata": {
        "id": "view-in-github",
        "colab_type": "text"
      },
      "source": [
        "<a href=\"https://colab.research.google.com/github/pratikshanikum16/SENTIMENT-ANALYSIS/blob/main/SENTIMENT_ANALYSIS.ipynb\" target=\"_parent\"><img src=\"https://colab.research.google.com/assets/colab-badge.svg\" alt=\"Open In Colab\"/></a>"
      ]
    },
    {
      "cell_type": "code",
      "metadata": {
        "id": "4l3HrqPb9JU2"
      },
      "source": [
        "! pip install vaderSEntiment"
      ],
      "execution_count": null,
      "outputs": []
    },
    {
      "cell_type": "code",
      "metadata": {
        "id": "bzQ5ADxs-eG_"
      },
      "source": [
        "from vaderSentiment.vaderSentiment import SentimentIntensityAnalyzer\n",
        "vs = SentimentIntensityAnalyzer()\n"
      ],
      "execution_count": 7,
      "outputs": []
    },
    {
      "cell_type": "code",
      "metadata": {
        "id": "XEUKczYJ-y_X"
      },
      "source": [
        "import requests\n",
        "from bs4 import BeautifulSoup\n",
        "import pandas as pd\n",
        "import numpy as np\n",
        "import os\n",
        "\n"
      ],
      "execution_count": 8,
      "outputs": []
    },
    {
      "cell_type": "code",
      "metadata": {
        "id": "NjtReVp7_lv2"
      },
      "source": [
        "url='/content/flipkart_reviews_dataset.csv'\n",
        "df = pd.read_csv(url)\n",
        "df = df.iloc[:,3:5]\n"
      ],
      "execution_count": 9,
      "outputs": []
    },
    {
      "cell_type": "code",
      "metadata": {
        "id": "_J8vhDTgDSr7"
      },
      "source": [
        "df"
      ],
      "execution_count": null,
      "outputs": []
    },
    {
      "cell_type": "code",
      "metadata": {
        "id": "wPInL4JZAsde"
      },
      "source": [
        "review =df['review']"
      ],
      "execution_count": 11,
      "outputs": []
    },
    {
      "cell_type": "code",
      "metadata": {
        "id": "TB3bn5vTBx4A"
      },
      "source": [
        "review"
      ],
      "execution_count": null,
      "outputs": []
    },
    {
      "cell_type": "code",
      "metadata": {
        "id": "ZDlGVekQpCVz"
      },
      "source": [
        "import nltk\n",
        "nltk.download('punket')\n",
        "nltk.download('stopwords')\n",
        "from nltk.corpus import stopwords\n",
        "all_stopwords = stopwords.words('english')\n",
        "all_stopwords.remove(\"no\")\n",
        "all_stopwords.remove(\"not\")\n"
      ],
      "execution_count": null,
      "outputs": []
    },
    {
      "cell_type": "code",
      "metadata": {
        "id": "gRUomEsEEFVU"
      },
      "source": [
        "#remove html tag\n",
        "def html_tag(text):\n",
        "  soup = BeautifulSoup(text,\"html.parser\")\n",
        "  new_text = soup.get_text()\n",
        "  return new_text\n",
        "\n"
      ],
      "execution_count": 14,
      "outputs": []
    },
    {
      "cell_type": "code",
      "metadata": {
        "id": "5QC24zN0FJ3i"
      },
      "source": [
        "!pip install contractions\n",
        "import contractions \n",
        "def con(text):\n",
        "  expand = contractions.fix(text)\n",
        "  return expand"
      ],
      "execution_count": null,
      "outputs": []
    },
    {
      "cell_type": "code",
      "metadata": {
        "id": "8wC41zqqGA1d"
      },
      "source": [
        "import re\n",
        "def remove_sp(text):\n",
        " text = re.sub('[^a-zA-z]','  ', text)\n",
        " return text "
      ],
      "execution_count": 16,
      "outputs": []
    },
    {
      "cell_type": "code",
      "metadata": {
        "id": "l8CfqEiiJF0u"
      },
      "source": [
        "from nltk.tokenize.toktok import ToktokTokenizer\n",
        "tokenizer = ToktokTokenizer()"
      ],
      "execution_count": 17,
      "outputs": []
    },
    {
      "cell_type": "code",
      "metadata": {
        "id": "Qqdzh_7pHt0D"
      },
      "source": [
        "def remove_stopwords(text):\n",
        " tokens = tokenizer.tokenize(text)\n",
        " token = [token.strip() for token in tokens]\n",
        " filt_tokens = [token for tokens in tokens if token not in all_stopwords]\n",
        " filt_text = ' '.join(map(str,filt_tokens))\n",
        " return filt_text\n",
        " "
      ],
      "execution_count": 18,
      "outputs": []
    },
    {
      "cell_type": "code",
      "metadata": {
        "id": "AcwJ-wjJHF7d"
      },
      "source": [
        "df.review"
      ],
      "execution_count": null,
      "outputs": []
    },
    {
      "cell_type": "code",
      "metadata": {
        "id": "TIrcZYOQI-3H"
      },
      "source": [
        "df.review = df.review.apply(lambda x:x.lower())\n",
        "df.review = df.review.apply(html_tag)\n",
        "df.review = df.review.apply(con)\n",
        "df.review = df.review.apply(remove_sp)\n",
        "df.review = df.review.apply(remove_stopwords)"
      ],
      "execution_count": 20,
      "outputs": []
    },
    {
      "cell_type": "code",
      "metadata": {
        "id": "nhObrZUmJ5F8"
      },
      "source": [
        "df.review"
      ],
      "execution_count": null,
      "outputs": []
    },
    {
      "cell_type": "code",
      "metadata": {
        "id": "3c4ORiUbMQIK"
      },
      "source": [
        "from vaderSentiment.vaderSentiment import SentimentIntensityAnalyzer\n",
        "vs = SentimentIntensityAnalyzer()\n"
      ],
      "execution_count": 22,
      "outputs": []
    },
    {
      "cell_type": "code",
      "metadata": {
        "id": "cZfcQWa0_H9y"
      },
      "source": [
        "df['compound'] = df['review'].apply(lambda x: vs.polarity_scores(x)['compound'])"
      ],
      "execution_count": null,
      "outputs": []
    },
    {
      "cell_type": "code",
      "metadata": {
        "id": "qn2DVZ-1wwDQ"
      },
      "source": [
        "df['compound']"
      ],
      "execution_count": null,
      "outputs": []
    },
    {
      "cell_type": "markdown",
      "metadata": {
        "id": "Mo5wKI0SiZXi"
      },
      "source": [
        "Testing"
      ]
    },
    {
      "cell_type": "code",
      "metadata": {
        "id": "TBPj8hi4e4BO"
      },
      "source": [
        "test_review =input('enter review')\n",
        "\n"
      ],
      "execution_count": null,
      "outputs": []
    },
    {
      "cell_type": "code",
      "metadata": {
        "id": "Y6EUub_2jizD"
      },
      "source": [
        "import pandas as pd\n",
        "\n",
        "df.test_review= df.test_review.apply(lambda x:x.lower())\n",
        "df.test_review = df.test_review.apply(html_tag)\n",
        "df.test_review = df.test_review.apply(con)\n",
        "df.test_review = df.test_review.apply(remove_sp)\n",
        "df.test_review = df.test_review.apply(remove_stopwords)\n",
        "\n",
        "from vaderSentiment.vaderSentiment import SentimentIntensityAnalyzer\n",
        "vs = SentimentIntensityAnalyzer()\n",
        "\n",
        "df['compound'] = df['test_review'].apply(lambda x: vs.polarity_scores(x)['compound'])\n",
        "if (df['compound']<=0.5).bool :\n",
        " print('Negative Review')\n",
        "\n",
        "elif (df['compound']>=0.5).bool :\n",
        "  print('positive Review')\n",
        "else: \n",
        "  print('neutral')"
      ],
      "execution_count": null,
      "outputs": []
    }
  ]
}